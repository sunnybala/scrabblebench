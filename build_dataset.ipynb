{
 "cells": [
  {
   "cell_type": "code",
   "execution_count": 36,
   "id": "73a20855",
   "metadata": {},
   "outputs": [],
   "source": [
    "import requests\n",
    "import pandas as pd\n",
    "import json\n",
    "import os"
   ]
  },
  {
   "cell_type": "markdown",
   "id": "50d8ccd5",
   "metadata": {},
   "source": [
    "# Build Dataset"
   ]
  },
  {
   "cell_type": "code",
   "execution_count": 37,
   "id": "a1b19f74",
   "metadata": {},
   "outputs": [
    {
     "name": "stdout",
     "output_type": "stream",
     "text": [
      "2025-08-15_15-53-39_game.json\n",
      "2025-08-15_18-17-34_game.json\n",
      "2025-08-15_19-20-42_game.json\n",
      "2025-08-16_08-20-14_game.json\n",
      "2025-08-15_16-55-17_game.json\n",
      "2025-08-15_19-21-27_game.json\n",
      "2025-08-15_18-52-09_game.json\n",
      "2025-08-15_15-56-04_game.json\n",
      "2025-08-16_08-38-48_game.json\n",
      "2025-08-16_08-52-17_game.json\n",
      "2025-08-16_08-15-58_game.json\n",
      "2025-08-16_08-53-05_game.json\n",
      "2025-08-15_18-20-48_game.json\n",
      "2025-08-15_16-55-29_game.json\n",
      "2025-08-16_08-19-31_game.json\n",
      "2025-08-16_08-38-39_game.json\n",
      "2025-08-15_18-54-25_game.json\n",
      "2025-08-15_18-03-20_game.json\n",
      "2025-08-15_18-54-31_game.json\n",
      "2025-08-15_16-47-08_game.json\n",
      "2025-08-15_18-01-10_game.json\n",
      "2025-08-15_15-59-21_game.json\n",
      "2025-08-16_08-36-05_game.json\n",
      "2025-08-15_15-56-54_game.json\n",
      "2025-08-15_18-54-46_game.json\n",
      "2025-08-15_18-51-39_game.json\n",
      "2025-08-15_18-47-54_game.json\n",
      "2025-08-15_18-03-18_game.json\n",
      "2025-08-15_18-06-09_game.json\n",
      "2025-08-15_18-19-58_game.json\n",
      "2025-08-16_08-52-40_game.json\n",
      "2025-08-15_18-47-30_game.json\n",
      "2025-08-15_18-01-17_game.json\n",
      "2025-08-16_08-15-40_game.json\n",
      "2025-08-16_08-36-23_game.json\n",
      "2025-08-15_14-56-16_game.json\n",
      "2025-08-16_08-52-37_game.json\n",
      "2025-08-16_08-50-32_game.json\n",
      "2025-08-15_16-47-23_game.json\n",
      "2025-08-16_08-19-55_game.json\n",
      "2025-08-15_15-53-00_game.json\n",
      "2025-08-15_18-51-50_game.json\n",
      "2025-08-15_16-55-23_game.json\n",
      "2025-08-16_08-35-57_game.json\n",
      "2025-08-16_08-50-13_game.json\n",
      "2025-08-15_18-02-49_game.json\n",
      "2025-08-16_08-50-18_game.json\n",
      "2025-08-15_14-53-39_game.json\n",
      "2025-08-15_18-24-55_game.json\n",
      "2025-08-15_18-17-12_game.json\n",
      "2025-08-15_19-20-45_game.json\n",
      "2025-08-16_08-15-09_game.json\n",
      "2025-08-15_18-03-14_game.json\n",
      "2025-08-15_18-17-27_game.json\n",
      "2025-08-15_19-20-51_game.json\n",
      "2025-08-16_08-49-56_game.json\n",
      "2025-08-15_16-54-59_game.json\n",
      "2025-08-16_08-35-51_game.json\n",
      "2025-08-15_18-06-53_game.json\n",
      "2025-08-15_18-54-29_game.json\n",
      "2025-08-16_08-39-12_game.json\n",
      "2025-08-15_15-56-36_game.json\n",
      "2025-08-15_18-51-24_game.json\n",
      "2025-08-15_15-11-44_game.json\n",
      "2025-08-15_18-20-47_game.json\n",
      "2025-08-15_16-50-46_game.json\n",
      "2025-08-15_18-25-19_game.json\n",
      "2025-08-16_08-42-09_game.json\n",
      "2025-08-15_18-47-33_game.json\n",
      "2025-08-15_15-53-17_game.json\n",
      "2025-08-15_18-06-42_game.json\n",
      "2025-08-16_08-42-31_game.json\n",
      "2025-08-15_14-52-02_game.json\n",
      "2025-08-16_08-42-04_game.json\n",
      "2025-08-16_08-52-34_game.json\n",
      "2025-08-15_15-43-12_game.json\n",
      "2025-08-15_15-56-27_game.json\n",
      "2025-08-15_19-20-52_game.json\n",
      "2025-08-15_18-24-56_game.json\n",
      "2025-08-15_18-17-11_game.json\n",
      "2025-08-15_16-50-40_game.json\n",
      "2025-08-15_18-20-41_game.json\n",
      "2025-08-16_08-43-10_game.json\n",
      "2025-08-16_08-15-13_game.json\n",
      "2025-08-15_14-46-59_game.json\n",
      "2025-08-15_16-47-32_game.json\n",
      "2025-08-16_08-19-50_game.json\n",
      "2025-08-15_19-14-49_game.json\n",
      "2025-08-15_18-20-28_game.json\n",
      "2025-08-16_08-35-58_game.json\n",
      "2025-08-15_19-16-03_game.json\n",
      "2025-08-15_16-50-08_game.json\n",
      "2025-08-15_16-43-55_game.json\n",
      "2025-08-16_08-15-35_game.json\n",
      "2025-08-15_19-17-53_game.json\n",
      "2025-08-15_18-06-18_game.json\n",
      "2025-08-16_08-42-11_game.json\n",
      "2025-08-15_18-54-07_game.json\n",
      "2025-08-15_19-16-11_game.json\n",
      "2025-08-15_18-24-43_game.json\n",
      "2025-08-15_18-51-23_game.json\n",
      "2025-08-15_18-17-10_game.json\n",
      "2025-08-15_16-51-05_game.json\n",
      "2025-08-16_08-39-10_game.json\n",
      "2025-08-15_15-51-20_game.json\n",
      "2025-08-15_18-47-57_game.json\n",
      "2025-08-15_18-00-18_game.json\n",
      "2025-08-15_18-06-45_game.json\n",
      "2025-08-15_15-54-10_game.json\n",
      "2025-08-15_18-24-34_game.json\n",
      "2025-08-16_08-50-03_game.json\n",
      "2025-08-15_16-47-12_game.json\n",
      "2025-08-16_08-19-45_game.json\n",
      "2025-08-15_18-00-57_game.json\n",
      "2025-08-16_08-38-37_game.json\n"
     ]
    }
   ],
   "source": [
    "dataset = []\n",
    "# these files are generated by having games play with dataset=True in the url params\n",
    "# I used gemini flash to play the games to generate this data\n",
    "OUTPUT_DIR = 'outputs/dataset'\n",
    "\n",
    "for filename in os.listdir(OUTPUT_DIR):\n",
    "    if '.json' not in filename:\n",
    "        continue\n",
    "\n",
    "    print(filename)\n",
    "    with open(os.path.join(OUTPUT_DIR,filename), mode='rb') as file:\n",
    "        game = json.loads(file.read())\n",
    "\n",
    "\n",
    "        empty_board = True\n",
    "        \n",
    "        for round in game['actions']:\n",
    "            if (empty_board == False) and (len(round['initial_tiles'])==7) and (len(round['possible_words']) > 0):\n",
    "                dataset.append([round['ascii_board'], round['initial_tiles'], round['possible_words']])\n",
    "\n",
    "            # wait til there's at least 1 word on board\n",
    "            if 'playword' in round['action']:\n",
    "                empty_board = False"
   ]
  },
  {
   "cell_type": "code",
   "execution_count": 38,
   "id": "e0af8680",
   "metadata": {},
   "outputs": [
    {
     "data": {
      "text/plain": [
       "5062"
      ]
     },
     "execution_count": 38,
     "metadata": {},
     "output_type": "execute_result"
    }
   ],
   "source": [
    "len(dataset)"
   ]
  },
  {
   "cell_type": "code",
   "execution_count": null,
   "id": "00a0251a",
   "metadata": {},
   "outputs": [],
   "source": [
    "with open(\"dataset.json\", \"w\") as f:\n",
    "    json.dump(dataset, f)"
   ]
  },
  {
   "cell_type": "code",
   "execution_count": null,
   "id": "f58099df",
   "metadata": {},
   "outputs": [],
   "source": []
  }
 ],
 "metadata": {
  "kernelspec": {
   "display_name": "ai-scrabble",
   "language": "python",
   "name": "python3"
  },
  "language_info": {
   "codemirror_mode": {
    "name": "ipython",
    "version": 3
   },
   "file_extension": ".py",
   "mimetype": "text/x-python",
   "name": "python",
   "nbconvert_exporter": "python",
   "pygments_lexer": "ipython3",
   "version": "3.9.4"
  }
 },
 "nbformat": 4,
 "nbformat_minor": 5
}
